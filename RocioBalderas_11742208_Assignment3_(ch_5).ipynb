{
  "cells": [
    {
      "cell_type": "markdown",
      "metadata": {
        "id": "view-in-github",
        "colab_type": "text"
      },
      "source": [
        "<a href=\"https://colab.research.google.com/github/rosieb05/RocioBalderas_DTSC3020.020_Fall2025/blob/main/RocioBalderas_11742208_Assignment3_(ch_5).ipynb\" target=\"_parent\"><img src=\"https://colab.research.google.com/assets/colab-badge.svg\" alt=\"Open In Colab\"/></a>"
      ]
    },
    {
      "cell_type": "markdown",
      "metadata": {
        "id": "nevCG4Qs0b8R"
      },
      "source": [
        "# DTSC 3020 – Assignment 3\n",
        "\n",
        "This exercise focuses on **if statements and conditional logic** in Python and is designed to help students practice decision-making structures.\n",
        "\n",
        "**Total points:** 5  \n",
        "**Deadline:** Friday at midnight  \n",
        "**Submission:** Upload your Python file to your GitHub repository and submit **only your GitHub link**.\n",
        "\n",
        "### Expectations\n",
        "- Write complete answers and run all cells before submission.\n",
        "- Keep the notebook clean (no unnecessary code).\n",
        "\n"
      ],
      "id": "nevCG4Qs0b8R"
    },
    {
      "cell_type": "markdown",
      "metadata": {
        "id": "gfumj0DY0b8f"
      },
      "source": [
        "## Question 1 – Movie Ticket System\n",
        "Write a Python code that checks the price of a movie ticket.\n",
        "If the age is between 0 and 11 it is Child, if between 12 and 17 it is Teen, and if 18 or older it is Adult.\n",
        "Print the category and the ticket price (you choose the price).\n",
        "Run the program with age = 16."
      ],
      "id": "gfumj0DY0b8f"
    },
    {
      "cell_type": "code",
      "metadata": {
        "id": "67TGDT6w0b8k",
        "colab": {
          "base_uri": "https://localhost:8080/"
        },
        "outputId": "e548be2b-b5fc-4923-c423-e94d8e43bb5c"
      },
      "execution_count": 23,
      "outputs": [
        {
          "output_type": "stream",
          "name": "stdout",
          "text": [
            "Teen, $10\n"
          ]
        }
      ],
      "source": [
        "#Movie Ticket System\n",
        "\n",
        "age = 16\n",
        "\n",
        "if age <= 11:\n",
        "  print(\"Child, $5\")\n",
        "\n",
        "elif age <= 17:\n",
        "  print(\"Teen, $10\")\n",
        "\n",
        "else:\n",
        "  print(\"Adult, $10\")\n"
      ],
      "id": "67TGDT6w0b8k"
    },
    {
      "cell_type": "markdown",
      "metadata": {
        "id": "_tUFNVKT0b8r"
      },
      "source": [
        "## Question 2 – Online Store Discount\n",
        "Write a Python code that applies a discount based on the shopping cart total.\n",
        "If the total is less than 50 dollars there is no discount, if the total is between 50 and 99 dollars there is a 10 percent discount, and if the total is 100 dollars or more there is a 20 percent discount.\n",
        "Print the original total, the discount, and the final price.\n",
        "Run the program with cart_total = 85."
      ],
      "id": "_tUFNVKT0b8r"
    },
    {
      "cell_type": "code",
      "metadata": {
        "id": "yTtX719o0b8v",
        "colab": {
          "base_uri": "https://localhost:8080/"
        },
        "outputId": "0b5b244e-343a-4853-9a83-7b208bc80cc7"
      },
      "execution_count": 2,
      "outputs": [
        {
          "output_type": "stream",
          "name": "stdout",
          "text": [
            "10% discount\n"
          ]
        }
      ],
      "source": [
        "# Online Store Discount\n",
        "\n",
        "cart_total = 85\n",
        "\n",
        "if cart_total <50:\n",
        "  print(\"no discount\")\n",
        "\n",
        "elif cart_total <=99:\n",
        "  print(\"10% discount\")\n",
        "\n",
        "else:\n",
        "  print(\"20% discount\")"
      ],
      "id": "yTtX719o0b8v"
    },
    {
      "cell_type": "markdown",
      "metadata": {
        "id": "uOUYYC870b8x"
      },
      "source": [
        "## Question 3 – Exam Grading\n",
        "Write a Python code that gives a letter grade for a score.\n",
        "If the score is between 90 and 100 the grade is A, if between 80 and 89 the grade is B, if between 70 and 79 the grade is C, if between 60 and 69 the grade is D, and if below 60 the grade is F.\n",
        "Print the grade and a short message.\n",
        "Run the program with score = 73."
      ],
      "id": "uOUYYC870b8x"
    },
    {
      "cell_type": "code",
      "metadata": {
        "id": "HDtf_YLG0b8y",
        "colab": {
          "base_uri": "https://localhost:8080/"
        },
        "outputId": "e27efb1f-fff9-4394-feca-0f402ab640e9"
      },
      "execution_count": 8,
      "outputs": [
        {
          "output_type": "stream",
          "name": "stdout",
          "text": [
            "C, Fair job, study more!\n"
          ]
        }
      ],
      "source": [
        "# Exam Grading\n",
        "\n",
        "score = 73\n",
        "\n",
        "if score >= 90 and score <= 100:\n",
        "  print(\"A, Excellent job! Keep it going!\")\n",
        "\n",
        "elif score >= 80 and score <= 89:\n",
        "  print(\"B, Good job!\")\n",
        "\n",
        "elif score >= 70 and score <= 79:\n",
        "    print(\"C, Fair job, study more!\")\n",
        "\n",
        "elif score >=60 and score <= 69:\n",
        "  print(\"D, Oh no! Needs improvement\")\n",
        "\n",
        "else:\n",
        "  print(\"F, Failing class!\")"
      ],
      "id": "HDtf_YLG0b8y"
    },
    {
      "cell_type": "markdown",
      "metadata": {
        "id": "ZCIKM6Xs0b80"
      },
      "source": [
        "## Question 4 – Parking Fee\n",
        "Write a Python code that calculates parking fees.\n",
        "If the car is parked for 0 to 2 hours the parking is free, if the car is parked for 3 to 5 hours the fee is 3 dollars per hour, and if the car is parked for more than 5 hours the fee is 3 dollars per hour for the first three hours after free and then 5 dollars per hour for the rest.\n",
        "Print the number of hours and the total fee.\n",
        "Run the program with hours = 6."
      ],
      "id": "ZCIKM6Xs0b80"
    },
    {
      "cell_type": "code",
      "metadata": {
        "id": "g3a_sPo50b81",
        "colab": {
          "base_uri": "https://localhost:8080/"
        },
        "outputId": "a134134a-8d75-4054-c0dd-0cfcd7a12f0a"
      },
      "execution_count": 15,
      "outputs": [
        {
          "output_type": "stream",
          "name": "stdout",
          "text": [
            "Hours parked:  6\n",
            "Total fee: $ 14\n"
          ]
        }
      ],
      "source": [
        "# Calculating Parking Fees\n",
        "\n",
        "hours = 6\n",
        "\n",
        "if hours < 3:\n",
        "  fee = 0\n",
        "  print(\"Hours parked: \", hours)\n",
        "  print(\"Total fee: $\", fee)\n",
        "\n",
        "elif hours < 6:\n",
        "  fee = hours * 3\n",
        "  print(\"Hours parked: \", hours)\n",
        "  print(\"Total fee: $\", fee)\n",
        "\n",
        "#more than 5 hours with first 3 hours FREE, $3 for 2 $5 per hour after\n",
        "else:\n",
        "  fee = (3 * 3) + (hours - 5) * 5\n",
        "  print(\"Hours parked: \", hours)\n",
        "  print(\"Total fee: $\", fee)\n"
      ],
      "id": "g3a_sPo50b81"
    },
    {
      "cell_type": "markdown",
      "metadata": {
        "id": "XBf0-SPz0b83"
      },
      "source": [
        "## Question 5 – Cafeteria Menu\n",
        "Write a Python code that creates a list with three food items.\n",
        "Check if an order is in the list.\n",
        "If the item is in the list print a confirmation, and if the item is not in the list print a polite message.\n",
        "Run the program with menu = ['pizza','salad','sandwich'] and order = 'salad'."
      ],
      "id": "XBf0-SPz0b83"
    },
    {
      "cell_type": "code",
      "metadata": {
        "id": "y52UEMoX0b85",
        "colab": {
          "base_uri": "https://localhost:8080/"
        },
        "outputId": "0b814ba0-5700-4f56-e744-6ba2d2b2f134"
      },
      "execution_count": 24,
      "outputs": [
        {
          "output_type": "stream",
          "name": "stdout",
          "text": [
            "Your order for salad is confirmed.\n"
          ]
        }
      ],
      "source": [
        "# Cafeteria Menu order\n",
        "\n",
        "menu = ['pizza', 'salad', 'sandwich']\n",
        "order = 'salad'\n",
        "\n",
        "#check if order is in list\n",
        "if order in menu:\n",
        "  print(\"Your order for\", order, \"is confirmed.\")\n",
        "\n",
        "else:\n",
        "  print(\"Sorry,\", order, \"is not available, please choose another item on the menu.\")\n"
      ],
      "id": "y52UEMoX0b85"
    },
    {
      "cell_type": "markdown",
      "metadata": {
        "id": "-60rL71F0b86"
      },
      "source": [
        "## Question 6 – Job Application Filter\n",
        "Write a Python code that checks if a person is eligible for a job.\n",
        "If the person is older than 22 and has more than 2 years of experience print Accepted.\n",
        "Otherwise print Not Accepted.\n",
        "Run the program with age = 23 and experience = 1."
      ],
      "id": "-60rL71F0b86"
    },
    {
      "cell_type": "code",
      "metadata": {
        "id": "-h964CqY0b88",
        "colab": {
          "base_uri": "https://localhost:8080/"
        },
        "outputId": "6f0a7700-1cd9-4893-b673-8e7d54bd3bd9"
      },
      "execution_count": 22,
      "outputs": [
        {
          "output_type": "stream",
          "name": "stdout",
          "text": [
            "Not Accepted.\n"
          ]
        }
      ],
      "source": [
        "# Job Application Filter requirements\n",
        "\n",
        "age = 23\n",
        "experience = 1\n",
        "\n",
        "if age > 22 and experience > 2:\n",
        "  print(\"Accepted.\")\n",
        "\n",
        "else:\n",
        "  print(\"Not Accepted.\")\n"
      ],
      "id": "-h964CqY0b88"
    },
    {
      "cell_type": "markdown",
      "metadata": {
        "id": "MOMMxnuE0b8-"
      },
      "source": [
        "## Question 7 – Clothing Advice\n",
        "Write a Python code that suggests clothing based on the temperature.\n",
        "If the temperature is below 10 print Coat and gloves, if the temperature is between 10 and 19 print Jacket, and if the temperature is 20 or more print T-shirt.\n",
        "Run the program with temperature = 15."
      ],
      "id": "MOMMxnuE0b8-"
    },
    {
      "cell_type": "code",
      "metadata": {
        "id": "V6RtrCOa0b8_",
        "colab": {
          "base_uri": "https://localhost:8080/"
        },
        "outputId": "023019d4-724a-4744-8fad-b5687979710e"
      },
      "execution_count": 27,
      "outputs": [
        {
          "output_type": "stream",
          "name": "stdout",
          "text": [
            "Wear a jacket!\n"
          ]
        }
      ],
      "source": [
        "# Clothing advice based on outdoor temp\n",
        "\n",
        "temperature = 15\n",
        "\n",
        "if temperature < 10:\n",
        "  print(\"Wear coat and gloves.\")\n",
        "elif temperature < 20:\n",
        "  print(\"Wear a jacket!\")\n",
        "\n",
        "else:\n",
        "  print(\"Wear a T-shirt!\")"
      ],
      "id": "V6RtrCOa0b8_"
    },
    {
      "cell_type": "markdown",
      "metadata": {
        "id": "R-i9Jzpn0b9A"
      },
      "source": [
        "## Question 8 – Loan Eligibility\n",
        "Write a Python code that checks loan eligibility.\n",
        "If the salary is at least 3000 and the credit score is at least 650 print Loan Approved, otherwise print Loan Denied.\n",
        "Run the program with salary = 3500 and credit_score = 640."
      ],
      "id": "R-i9Jzpn0b9A"
    },
    {
      "cell_type": "code",
      "metadata": {
        "id": "2M0s0bC40b9B",
        "colab": {
          "base_uri": "https://localhost:8080/"
        },
        "outputId": "01b7926e-bcb8-45b4-c84b-8afa9706d6ab"
      },
      "execution_count": 28,
      "outputs": [
        {
          "output_type": "stream",
          "name": "stdout",
          "text": [
            "Sorry, loan is denied.\n"
          ]
        }
      ],
      "source": [
        "# Loan Eligibility\n",
        "\n",
        "salary = 3500\n",
        "credit_score = 640\n",
        "\n",
        "if salary >= 3000 and credit_score >= 650:\n",
        "  print(\"Congratulations! Loan approved.\")\n",
        "\n",
        "else:\n",
        "  print(\"Sorry, loan is denied.\")\n"
      ],
      "id": "2M0s0bC40b9B"
    },
    {
      "cell_type": "markdown",
      "metadata": {
        "id": "I0WmTyFv0b9D"
      },
      "source": [
        "## Question 9 – Password Strength\n",
        "Write a Python code that checks if a password is strong, medium, or weak based on its length.\n",
        "If the password has fewer than 6 characters it is Weak, if it has 6 to 10 characters it is Medium, and if it has more than 10 characters it is Strong.\n",
        "Print the strength.\n",
        "Run the program with password = 'hello123'."
      ],
      "id": "I0WmTyFv0b9D"
    },
    {
      "cell_type": "code",
      "metadata": {
        "id": "Jm8fu7ft0b9E",
        "colab": {
          "base_uri": "https://localhost:8080/"
        },
        "outputId": "de5cbd07-2543-42ee-ffb1-d39c7a433b1f"
      },
      "execution_count": 29,
      "outputs": [
        {
          "output_type": "stream",
          "name": "stdout",
          "text": [
            "Medium password.\n"
          ]
        }
      ],
      "source": [
        "# Password Strength\n",
        "\n",
        "password = 'hello123'\n",
        "\n",
        "if len(password) <6:\n",
        "  print(\"Weak password.\")\n",
        "\n",
        "elif len(password) <= 10:\n",
        "  print(\"Medium password.\")\n",
        "\n",
        "else:\n",
        "  print(\"Strong password.\")\n"
      ],
      "id": "Jm8fu7ft0b9E"
    },
    {
      "cell_type": "markdown",
      "metadata": {
        "id": "kgKSm4WB0b9F"
      },
      "source": [
        "## Question 10 – Guest List Checker\n",
        "Write a Python code that creates a list with three invited guests.\n",
        "Define a variable for a guest name.\n",
        "Check if the guest name is in the list.\n",
        "If the guest is in the list print Welcome, and if the guest is not in the list print Not on the list.\n",
        "Run the program with guest = 'Sara'."
      ],
      "id": "kgKSm4WB0b9F"
    },
    {
      "cell_type": "code",
      "metadata": {
        "id": "4pyiTbMT0b9G",
        "colab": {
          "base_uri": "https://localhost:8080/"
        },
        "outputId": "401cd730-a409-4c35-d7fa-76a8052d7837"
      },
      "execution_count": 32,
      "outputs": [
        {
          "output_type": "stream",
          "name": "stdout",
          "text": [
            "Sara is not on the guest list.\n"
          ]
        }
      ],
      "source": [
        "# Guest List Checker\n",
        "\n",
        "list = ['Andrea', 'Amanda', 'Anastasia']\n",
        "guest = 'Sara'\n",
        "\n",
        "if guest in list:\n",
        "  print(\"Welcome,\", guest, \"!\")\n",
        "\n",
        "else:\n",
        "  print(guest, \"is not on the guest list.\")\n"
      ],
      "id": "4pyiTbMT0b9G"
    }
  ],
  "metadata": {
    "kernelspec": {
      "display_name": "Python 3",
      "language": "python",
      "name": "python3"
    },
    "language_info": {
      "name": "python",
      "version": "3.x"
    },
    "colab": {
      "provenance": [],
      "include_colab_link": true
    }
  },
  "nbformat": 4,
  "nbformat_minor": 5
}