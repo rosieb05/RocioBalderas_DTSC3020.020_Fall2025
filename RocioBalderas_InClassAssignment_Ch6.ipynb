{
  "nbformat": 4,
  "nbformat_minor": 0,
  "metadata": {
    "colab": {
      "provenance": [],
      "include_colab_link": true
    },
    "kernelspec": {
      "name": "python3",
      "display_name": "Python 3"
    },
    "language_info": {
      "name": "python"
    }
  },
  "cells": [
    {
      "cell_type": "markdown",
      "metadata": {
        "id": "view-in-github",
        "colab_type": "text"
      },
      "source": [
        "<a href=\"https://colab.research.google.com/github/rosieb05/RocioBalderas_DTSC3020.020_Fall2025/blob/main/RocioBalderas_InClassAssignment_Ch6.ipynb\" target=\"_parent\"><img src=\"https://colab.research.google.com/assets/colab-badge.svg\" alt=\"Open In Colab\"/></a>"
      ]
    },
    {
      "cell_type": "markdown",
      "source": [
        "### ✅ Final Class Exercise: Library Borrowing (using key-value)\n",
        "You are given a dictionary that shows how many books each student has borrowed. Write a Python program to:\n",
        "1.  Print the names of students who borrowed more than 2 books.\n",
        "2. calculate the total number of borrowed books.\n"
      ],
      "metadata": {
        "id": "p337feJZG6g0"
      }
    },
    {
      "cell_type": "code",
      "source": [
        "borrowed_books = {\n",
        "    'Ali': 1,\n",
        "    'Sara': 3,\n",
        "    'Reza': 0,\n",
        "    'Lina': 4,\n",
        "    'Omid': 2\n",
        "}\n",
        "\n",
        "# Names who borrowed more than 2 books\n",
        "for student, books in borrowed_books.items():\n",
        "    if books > 2:\n",
        "        print(student)\n",
        "\n",
        "\n",
        "\n",
        "# write your answer here part 2\n",
        "\n",
        "total_books = sum(borrowed_books.values())\n",
        "print(total_books)\n"
      ],
      "metadata": {
        "id": "OibWnbqOG_cX",
        "colab": {
          "base_uri": "https://localhost:8080/"
        },
        "outputId": "18459817-ee57-433d-da53-8a009f1e0503"
      },
      "execution_count": 2,
      "outputs": [
        {
          "output_type": "stream",
          "name": "stdout",
          "text": [
            "Sara\n",
            "Lina\n",
            "10\n"
          ]
        }
      ]
    }
  ]
}