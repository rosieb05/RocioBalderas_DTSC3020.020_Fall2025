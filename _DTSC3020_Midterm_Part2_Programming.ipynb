{
  "cells": [
    {
      "cell_type": "markdown",
      "metadata": {
        "id": "view-in-github",
        "colab_type": "text"
      },
      "source": [
        "<a href=\"https://colab.research.google.com/github/rosieb05/RocioBalderas_DTSC3020.020_Fall2025/blob/main/_DTSC3020_Midterm_Part2_Programming.ipynb\" target=\"_parent\"><img src=\"https://colab.research.google.com/assets/colab-badge.svg\" alt=\"Open In Colab\"/></a>"
      ]
    },
    {
      "cell_type": "markdown",
      "id": "8e58db4f",
      "metadata": {
        "id": "8e58db4f"
      },
      "source": [
        "# DTSC 3020 — Midterm Exam (Part 2: Programming)\n",
        "University of North Texas\n",
        "\n",
        "**Course:** Introduction to Computation with Python (DTSC 3020)  \n",
        "**Exam:** Midterm — Programming (Ch. 1–8 concepts)\n",
        "\n"
      ]
    },
    {
      "cell_type": "markdown",
      "id": "ed86aaec",
      "metadata": {
        "id": "ed86aaec"
      },
      "source": [
        "---\n",
        "### Instructions\n",
        "- Write clean, readable Python code for each question.\n",
        "- Use only standard Python; no external libraries.\n",
        "- Where required, write a function and return the result.\n",
        "- After each solution cell, there is a **Part 2 — Test Scenario**. Follow the prompt to run your code.\n",
        "\n",
        "---"
      ]
    },
    {
      "cell_type": "markdown",
      "id": "227c4435",
      "metadata": {
        "id": "227c4435"
      },
      "source": [
        "## Question 1 — Create Member ID\n",
        "Write a Python function `create_member_id(full_name)` that creates a Library Member ID from a person’s full name.\n",
        "\n",
        "**Rules**\n",
        "- Normalize the name: remove extra spaces, convert to lowercase, and split by spaces.\n",
        "- Use the last word as the last name (e.g., `\"John Ronald Reuel Tolkien\"` → last name `tolkien`).\n",
        "- Use the first letters of all earlier words as initials (e.g., `jrr` for the example above).\n",
        "- Construct the member ID in this exact format: `lastname_initials` (underscore between them; no spaces).\n",
        "\n",
        "**Examples**\n",
        "- `\"Sara Amini\"` → `amini_sa`\n",
        "- `\"Mary Jane Watson\"` → `watson_mj`\n",
        "- `\"LINA\"` (single word) → use the word for both parts: `lina_l`\n",
        "\n",
        "Part 2 — Test Scenario (run using your function)\n",
        "names = [\"Sara Amini\", \"Ali\", \"Mary Jane\", \"John Smith\", \"LINA\", \"madonna\", \"sara amini\"]\n",
        "\n",
        "\n",
        "\n"
      ]
    },
    {
      "cell_type": "code",
      "execution_count": 72,
      "id": "51411a35",
      "metadata": {
        "id": "51411a35",
        "colab": {
          "base_uri": "https://localhost:8080/"
        },
        "outputId": "d9107672-30fb-4abb-c541-4bb9a0db8465"
      },
      "outputs": [
        {
          "output_type": "stream",
          "name": "stdout",
          "text": [
            "Sara Amini → amini_s\n",
            "Ali → ali_a\n",
            "Mary Jane → jane_m\n",
            "John Smith → smith_j\n",
            "LINA → lina_l\n",
            "madonna → madonna_m\n",
            "sara amini → amini_s\n"
          ]
        }
      ],
      "source": [
        "# Write your answer here for Q1\n",
        "def create_member_id(full_name):\n",
        "    parts = full_name.strip().lower().split() #break name down\n",
        "\n",
        "    if len(parts) == 1:\n",
        "        last = parts[0]\n",
        "        initials = parts[0][0]\n",
        "    else:\n",
        "        last = parts[-1]\n",
        "        initials = ''.join(word[0] for word in parts[:-1])\n",
        "\n",
        "    # create member_id\n",
        "    member_id = f\"{last}_{initials}\"\n",
        "    return member_id\n",
        "\n",
        "#test scenario\n",
        "names = [\"Sara Amini\", \"Ali\", \"Mary Jane\", \"John Smith\", \"LINA\", \"madonna\", \"sara amini\"]\n",
        "\n",
        "for name in names:\n",
        "    print(f\"{name} → {create_member_id(name)}\")\n"
      ]
    },
    {
      "cell_type": "code",
      "execution_count": 73,
      "id": "584ae4f0",
      "metadata": {
        "id": "584ae4f0",
        "colab": {
          "base_uri": "https://localhost:8080/"
        },
        "outputId": "285c0a42-06a7-4096-a488-f6d9a755fa64"
      },
      "outputs": [
        {
          "output_type": "stream",
          "name": "stdout",
          "text": [
            "Sara Amini → amini_s\n",
            "Ali → ali_a\n",
            "Mary Jane → jane_m\n",
            "John Smith → smith_j\n",
            "LINA → lina_l\n",
            "madonna → madonna_m\n",
            "sara amini → amini_s\n"
          ]
        }
      ],
      "source": [
        "# Part 2 — Test Scenario (run using your function)\n",
        "names = [\"Sara Amini\", \"Ali\", \"Mary Jane\", \"John Smith\", \"LINA\", \"madonna\", \"sara amini\"]\n",
        "\n",
        "for name in names:\n",
        "    print(f\"{name} → {create_member_id(name)}\")"
      ]
    },
    {
      "cell_type": "markdown",
      "id": "c1727720",
      "metadata": {
        "id": "c1727720"
      },
      "source": [
        "## Question 2 — Movie Ticket Booth\n",
        "\n",
        "Write a Python program that simulates a movie ticket booth using this price list:\n",
        "\n",
        "```python\n",
        "prices = {\"adult\": 12.5, \"child\": 8, \"senior\": 9.5, \"student\": 10}\n",
        "```\n",
        "\n",
        "**Program Requirements**\n",
        "- Repeatedly ask the user to enter a ticket type or type `done` to finish.\n",
        "- Valid inputs: `adult`, `child`, `senior`, `student`, or `done`.\n",
        "- If the ticket type exists, add its price to a running total and print a confirmation message.\n",
        "- If it doesn’t exist, print `\"Invalid ticket type\"`.\n",
        "- When the user types `done`, stop and show:\n",
        "  - **Subtotal** (sum of valid ticket prices)\n",
        "  - **Tax** = 8% of subtotal\n",
        "  - **Final total** = subtotal + tax\n"
      ]
    },
    {
      "cell_type": "code",
      "execution_count": 15,
      "id": "4b859e17",
      "metadata": {
        "id": "4b859e17",
        "colab": {
          "base_uri": "https://localhost:8080/"
        },
        "outputId": "bf94cda1-52fe-483b-adec-a6dbd5019650"
      },
      "outputs": [
        {
          "output_type": "stream",
          "name": "stdout",
          "text": [
            "Enter ticket type (adult, child, senior, student) or 'done' to finish: adult\n",
            "Added adult ticket ($12.50)\n",
            "Enter ticket type (adult, child, senior, student) or 'done' to finish: child\n",
            "Added child ticket ($8.00)\n",
            "Enter ticket type (adult, child, senior, student) or 'done' to finish: student\n",
            "Added student ticket ($10.00)\n",
            "Enter ticket type (adult, child, senior, student) or 'done' to finish: done\n",
            "--Receipt--\n",
            "Subtotal: $30.50\n",
            "Tax: $2.44\n",
            "Final Total: $32.94\n"
          ]
        }
      ],
      "source": [
        "prices = {\"adult\": 12.5, \"child\": 8, \"senior\": 9.5, \"student\": 10}\n",
        "tax_rate = 0.08\n",
        "subtotal = 0.0\n",
        "\n",
        "while True:\n",
        "    ticket_type = input(\"Enter ticket type (adult, child, senior, student) or 'done' to finish: \").lower().strip()\n",
        "\n",
        "    if ticket_type == \"done\":\n",
        "        break\n",
        "    elif ticket_type in prices:\n",
        "        subtotal += prices[ticket_type]\n",
        "        print(f\"Added {ticket_type} ticket (${prices[ticket_type]:.2f})\")\n",
        "    else:\n",
        "        print(\"Invalid ticket type.\")\n",
        "\n",
        "# Calculate totals\n",
        "tax = subtotal * tax_rate\n",
        "final_total = subtotal + tax\n",
        "\n",
        "print(\"--Receipt--\")\n",
        "print(f\"Subtotal: ${subtotal:.2f}\")\n",
        "print(f\"Tax: ${tax:.2f}\")\n",
        "print(f\"Final Total: ${final_total:.2f}\")\n",
        "\n"
      ]
    },
    {
      "cell_type": "markdown",
      "id": "17b39afe",
      "metadata": {
        "id": "17b39afe"
      },
      "source": [
        "**Part 2 — Example Scenario**\n",
        "When prompted, type the following (each on a new line), then press Enter after each entry:\n",
        "\n",
        "```\n",
        "adult\n",
        "child\n",
        "student\n",
        "done\n",
        "```\n",
        "Your program should complete and display the subtotal, tax, and final total based on these entries.\n"
      ]
    },
    {
      "cell_type": "markdown",
      "id": "28c710b6",
      "metadata": {
        "id": "28c710b6"
      },
      "source": [
        "## Question 3 — Student Grade Analyzer\n",
        "\n",
        "Write a Python function `analyze_grades(grades)` that takes a list of numbers (0–100) and returns three values:\n",
        "1. average grade\n",
        "2. highest grade\n",
        "3. lowest grade\n",
        "\n",
        "**Constraints**\n",
        "- Use a function and return statement(s).\n",
        "- Do not use external libraries.\n"
      ]
    },
    {
      "cell_type": "code",
      "execution_count": 38,
      "id": "efce3052",
      "metadata": {
        "id": "efce3052",
        "colab": {
          "base_uri": "https://localhost:8080/"
        },
        "outputId": "5f4027bd-184d-4c36-d41a-71af9e583237"
      },
      "outputs": [
        {
          "output_type": "stream",
          "name": "stdout",
          "text": [
            "Average grade: 85.57142857142857\n",
            "Highest grade: 93\n",
            "Lowest grade: 72\n"
          ]
        }
      ],
      "source": [
        "# Write your answer here for Q3\n",
        "def analyze_grades(grades):\n",
        "    if not grades:\n",
        "        return None, None, None\n",
        "\n",
        "    average = sum(grades) / len(grades)\n",
        "    highest = max(grades)\n",
        "    lowest = min(grades)\n",
        "\n",
        "    return average, highest, lowest\n",
        "\n",
        "#example test scenario\n",
        "grades_list = [88, 92, 79, 93, 85, 90, 72]\n",
        "\n",
        "avg, high, low = analyze_grades(grades_list)\n",
        "\n",
        "print(\"Average grade:\", avg)\n",
        "print(\"Highest grade:\", high)\n",
        "print(\"Lowest grade:\", low)\n"
      ]
    },
    {
      "cell_type": "code",
      "execution_count": 40,
      "id": "ad2b0d29",
      "metadata": {
        "id": "ad2b0d29",
        "colab": {
          "base_uri": "https://localhost:8080/"
        },
        "outputId": "d378a74c-68d9-4a0c-8125-b10bd30b9667"
      },
      "outputs": [
        {
          "output_type": "stream",
          "name": "stdout",
          "text": [
            "Average grade: 85.57142857142857\n",
            "Highest grade: 93\n",
            "Lowest grade: 72\n"
          ]
        }
      ],
      "source": [
        "# Part 2 — Test Scenario\n",
        "sample = [88, 92, 79, 93, 85, 90, 72]\n",
        "\n",
        "grades_list = [88, 92, 79, 93, 85, 90, 72]\n",
        "\n",
        "avg, high, low = analyze_grades(grades_list)\n",
        "\n",
        "print(\"Average grade:\", avg)\n",
        "print(\"Highest grade:\", high)\n",
        "print(\"Lowest grade:\", low)"
      ]
    },
    {
      "cell_type": "markdown",
      "id": "d378f3c3",
      "metadata": {
        "id": "d378f3c3"
      },
      "source": [
        "## Question 4 — PIN Verification\n",
        "Write a Python program that simulates an ATM PIN verification system.\n",
        "\n",
        "**Requirements**\n",
        "- The correct PIN is `4321`.\n",
        "- The user has at most **3 attempts** to enter the correct PIN.\n",
        "- If the PIN is correct: print `Access granted.` and stop.\n",
        "- If all 3 attempts fail: print `Card blocked.`\n",
        "- After each wrong attempt, also print the counter in the form `Wrong (x/3)`.\n"
      ]
    },
    {
      "cell_type": "code",
      "execution_count": 6,
      "id": "5ea085a2",
      "metadata": {
        "id": "5ea085a2",
        "colab": {
          "base_uri": "https://localhost:8080/"
        },
        "outputId": "16b3bce8-7b61-41f3-c8a2-7b7bc80e1288"
      },
      "outputs": [
        {
          "output_type": "stream",
          "name": "stdout",
          "text": [
            "Enter PIN: 1111\n",
            "Wrong (1/3)\n",
            "Enter PIN: 2222\n",
            "Wrong (2/3)\n",
            "Enter PIN: 4321\n",
            "Access granted.\n"
          ]
        }
      ],
      "source": [
        "# Write your answer here\n",
        "correct_pin = \"4321\"\n",
        "attempts = 3\n",
        "\n",
        "for i in range(1, attempts + 1):\n",
        "    entered_pin = input(\"Enter PIN: \")\n",
        "\n",
        "    if entered_pin == correct_pin:\n",
        "        print(\"Access granted.\")\n",
        "        break\n",
        "    else:\n",
        "        if i < attempts:\n",
        "            print(f\"Wrong ({i}/3)\")\n",
        "        else:\n",
        "            print(\"Card blocked.\")"
      ]
    },
    {
      "cell_type": "markdown",
      "id": "1c61e343",
      "metadata": {
        "id": "1c61e343"
      },
      "source": [
        "**Part 2 — Test Scenario**\n",
        "Run your program and, when prompted, enter these sequences to verify both behaviors:\n",
        "\n",
        "**Scenario A**\n",
        "```\n",
        "1111\n",
        "2222\n",
        "4321\n",
        "```\n",
        "\n",
        "\n"
      ]
    }
  ],
  "metadata": {
    "kernelspec": {
      "display_name": "Python 3",
      "language": "python",
      "name": "python3"
    },
    "language_info": {
      "name": "python",
      "version": "3.x"
    },
    "colab": {
      "provenance": [],
      "include_colab_link": true
    }
  },
  "nbformat": 4,
  "nbformat_minor": 5
}