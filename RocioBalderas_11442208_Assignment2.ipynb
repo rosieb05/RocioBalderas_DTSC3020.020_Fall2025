{
  "nbformat": 4,
  "nbformat_minor": 0,
  "metadata": {
    "colab": {
      "provenance": [],
      "authorship_tag": "ABX9TyMtu5qf+vmSYkJw++LWowOr",
      "include_colab_link": true
    },
    "kernelspec": {
      "name": "python3",
      "display_name": "Python 3"
    },
    "language_info": {
      "name": "python"
    }
  },
  "cells": [
    {
      "cell_type": "markdown",
      "metadata": {
        "id": "view-in-github",
        "colab_type": "text"
      },
      "source": [
        "<a href=\"https://colab.research.google.com/github/rosieb05/RocioBalderas_DTSC3020.020_Fall2025/blob/main/RocioBalderas_11442208_Assignment2.ipynb\" target=\"_parent\"><img src=\"https://colab.research.google.com/assets/colab-badge.svg\" alt=\"Open In Colab\"/></a>"
      ]
    },
    {
      "cell_type": "code",
      "execution_count": 2,
      "metadata": {
        "colab": {
          "base_uri": "https://localhost:8080/"
        },
        "id": "H44SCp6Wd0TT",
        "outputId": "d155dc8d-faff-41f5-be1a-e08647791a0a"
      },
      "outputs": [
        {
          "output_type": "stream",
          "name": "stdout",
          "text": [
            "['mango', 'canteloupe', 'watermelon']\n",
            "mango\n",
            "canteloupe\n",
            "watermelon\n"
          ]
        }
      ],
      "source": [
        "#Question 1\n",
        "#Create a list with 3 fruits (for example: apple, banana, orange).\n",
        "#Print the entire list.\n",
        "#Print each item separately.\n",
        "\n",
        "fruits = ['mango', 'canteloupe' , 'watermelon']\n",
        "print(fruits)\n",
        "\n",
        "print(fruits[0])\n",
        "print(fruits[1])\n",
        "print(fruits[2])\n"
      ]
    },
    {
      "cell_type": "code",
      "source": [
        "#Question 2\n",
        "#Create a list with 4 names.\n",
        "#Change the first name to a different one.\n",
        "#Print the new list.\n",
        "\n",
        "names = [\"Stephanie\", \"Vianey\", \"Andrea\", \"Natalia\"]\n",
        "names.remove(\"Stephanie\")\n",
        "names.insert(0, \"Jessica\")\n",
        "print(names)"
      ],
      "metadata": {
        "colab": {
          "base_uri": "https://localhost:8080/"
        },
        "id": "kLrccpDqlp2x",
        "outputId": "c6f0bbbc-ecf4-464d-90c9-094dc93b7923"
      },
      "execution_count": 3,
      "outputs": [
        {
          "output_type": "stream",
          "name": "stdout",
          "text": [
            "['Jessica', 'Vianey', 'Andrea', 'Natalia']\n"
          ]
        }
      ]
    },
    {
      "cell_type": "code",
      "source": [
        "#Question 3\n",
        "#Create a list with 5 vehicles (for example: car, bus, bike).\n",
        "#Add one more vehicle to the end of the list.\n",
        "#Print the list.\n",
        "\n",
        "vehicles = [\"car\", \"bus\", \"bicycle\", \"scooter\", \"motorcycle\"]\n",
        "vehicles.append(\"trailer\")\n",
        "print(vehicles)"
      ],
      "metadata": {
        "colab": {
          "base_uri": "https://localhost:8080/"
        },
        "id": "oYt2Tmvym34Q",
        "outputId": "557ac62c-6549-4fb3-de57-52ddda3ea321"
      },
      "execution_count": 4,
      "outputs": [
        {
          "output_type": "stream",
          "name": "stdout",
          "text": [
            "['car', 'bus', 'bicycle', 'scooter', 'motorcycle', 'trailer']\n"
          ]
        }
      ]
    },
    {
      "cell_type": "code",
      "source": [
        "#Question 4\n",
        "#Create a list with 6 foods.\n",
        "#Remove one food from the list.\n",
        "#Print the new list.\n",
        "\n",
        "foods = [\"tacos\", \"tamales\", \"hot dogs\", \"flautas\", \"gorditas\", \"pupusas\"]\n",
        "foods.remove(\"hot dogs\")\n",
        "print(foods)"
      ],
      "metadata": {
        "colab": {
          "base_uri": "https://localhost:8080/"
        },
        "id": "ixgRYWvCoQo3",
        "outputId": "9c72fc45-85ee-4d40-a84d-d625d484bff4"
      },
      "execution_count": 5,
      "outputs": [
        {
          "output_type": "stream",
          "name": "stdout",
          "text": [
            "['tacos', 'tamales', 'flautas', 'gorditas', 'pupusas']\n"
          ]
        }
      ]
    },
    {
      "cell_type": "code",
      "source": [
        "#Question 5\n",
        "#Create a list with 4 cities.\n",
        "#Sort the list in alphabetical order.\n",
        "#Reverse the list.\n",
        "\n",
        "cities = [\"Chicago\", \"Colorado Springs\", \"Los Angeles\", \"San Francisco\"]\n",
        "cities.sort()\n",
        "print(cities)\n"
      ],
      "metadata": {
        "colab": {
          "base_uri": "https://localhost:8080/"
        },
        "id": "480F-OhdpbO0",
        "outputId": "f4ababeb-3135-46ef-c697-063dcdc27e08"
      },
      "execution_count": 6,
      "outputs": [
        {
          "output_type": "stream",
          "name": "stdout",
          "text": [
            "['Chicago', 'Colorado Springs', 'Los Angeles', 'San Francisco']\n"
          ]
        }
      ]
    },
    {
      "cell_type": "code",
      "source": [
        "#Question 5 (option 2)\n",
        "#Create a list with 4 cities.\n",
        "#Sort the list in alphabetical order.\n",
        "#Reverse the list.\n",
        "\n",
        "cities = [\"chicago\", \"colorado springs\", \"los angeles\", \"san francisco\"]\n",
        "cities.sort()\n",
        "for city in cities:\n",
        "  print(f\"{city.title()}\")"
      ],
      "metadata": {
        "colab": {
          "base_uri": "https://localhost:8080/"
        },
        "id": "XthrM7b3rGec",
        "outputId": "e5c58f4e-335f-4423-dbe0-b63c00eef665"
      },
      "execution_count": 7,
      "outputs": [
        {
          "output_type": "stream",
          "name": "stdout",
          "text": [
            "Chicago\n",
            "Colorado Springs\n",
            "Los Angeles\n",
            "San Francisco\n"
          ]
        }
      ]
    },
    {
      "cell_type": "code",
      "source": [
        "#Question 6\n",
        "#Create a list with 3 animals.\n",
        "#Use a for loop to print each animal.\n",
        "\n",
        "animals = [\"dog\", \"mouse\", \"bird\"]\n",
        "for animal in animals:\n",
        "  print(animal)\n"
      ],
      "metadata": {
        "colab": {
          "base_uri": "https://localhost:8080/"
        },
        "id": "v4YuiqbysGbm",
        "outputId": "7d04dd84-2960-4ec1-f3ab-12c0f5072060"
      },
      "execution_count": 8,
      "outputs": [
        {
          "output_type": "stream",
          "name": "stdout",
          "text": [
            "dog\n",
            "mouse\n",
            "bird\n"
          ]
        }
      ]
    },
    {
      "cell_type": "code",
      "source": [
        "#Question 7\n",
        "#Create a list with numbers from 1 to 5.\n",
        "#Use a for loop to print each number multiplied by 2.\n",
        "\n",
        "numbers = list(range(1,6))\n",
        "for number in numbers:\n",
        "  print(number * 2)"
      ],
      "metadata": {
        "colab": {
          "base_uri": "https://localhost:8080/"
        },
        "id": "CBRlSjVxsN8E",
        "outputId": "40c99693-666d-4664-c47d-65e0ae9d54b9"
      },
      "execution_count": 9,
      "outputs": [
        {
          "output_type": "stream",
          "name": "stdout",
          "text": [
            "2\n",
            "4\n",
            "6\n",
            "8\n",
            "10\n"
          ]
        }
      ]
    },
    {
      "cell_type": "code",
      "source": [
        "#Question 8\n",
        "#Create a list with 6 friends.\n",
        "#Print the first three friends.\n",
        "#Print the last three friends.\n",
        "\n",
        "friends = [\"Jessica\", \"Nazareth\", \"Mariela\", \"Stephanie\", \"Elizabeth\", \"Anabel\"]\n",
        "print(friends[:3])\n",
        "print(friends[3:])\n",
        "#another way for print the last three friends\n",
        "print(friends[-3:])"
      ],
      "metadata": {
        "id": "qYkRi0ZjsX9e",
        "colab": {
          "base_uri": "https://localhost:8080/"
        },
        "outputId": "33117ffc-903c-45f8-917b-0b2b87b4aaa1"
      },
      "execution_count": 10,
      "outputs": [
        {
          "output_type": "stream",
          "name": "stdout",
          "text": [
            "['Jessica', 'Nazareth', 'Mariela']\n",
            "['Stephanie', 'Elizabeth', 'Anabel']\n",
            "['Stephanie', 'Elizabeth', 'Anabel']\n"
          ]
        }
      ]
    },
    {
      "cell_type": "code",
      "source": [
        "#Question 9\n",
        "#Use range() to create a list with numbers from 1 to 10.\n",
        "#Print the list.\n",
        "\n",
        "for number in range (11):\n",
        "  print(number)\n",
        "\n"
      ],
      "metadata": {
        "colab": {
          "base_uri": "https://localhost:8080/"
        },
        "id": "hpeO5h36smKT",
        "outputId": "37b774cb-b35f-4bb4-ae1f-3aa3b5c8cd64"
      },
      "execution_count": 11,
      "outputs": [
        {
          "output_type": "stream",
          "name": "stdout",
          "text": [
            "0\n",
            "1\n",
            "2\n",
            "3\n",
            "4\n",
            "5\n",
            "6\n",
            "7\n",
            "8\n",
            "9\n",
            "10\n"
          ]
        }
      ]
    },
    {
      "cell_type": "code",
      "source": [
        "#Question 10\n",
        "#Use list comprehension to create a list with the squares of numbers from 1 to 5.\n",
        "#Print the list.\n",
        "\n",
        "squares = [number**2 for number in range(1,6)]\n",
        "print(squares)"
      ],
      "metadata": {
        "id": "OME8YTtjss6T",
        "colab": {
          "base_uri": "https://localhost:8080/"
        },
        "outputId": "8fb1a475-048d-4097-9d2f-4731a01aac71"
      },
      "execution_count": 12,
      "outputs": [
        {
          "output_type": "stream",
          "name": "stdout",
          "text": [
            "[1, 4, 9, 16, 25]\n"
          ]
        }
      ]
    }
  ]
}