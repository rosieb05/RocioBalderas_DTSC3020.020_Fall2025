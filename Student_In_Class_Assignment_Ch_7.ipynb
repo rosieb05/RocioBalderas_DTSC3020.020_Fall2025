{
  "nbformat": 4,
  "nbformat_minor": 0,
  "metadata": {
    "colab": {
      "provenance": [],
      "include_colab_link": true
    },
    "kernelspec": {
      "name": "python3",
      "display_name": "Python 3"
    },
    "language_info": {
      "name": "python"
    }
  },
  "cells": [
    {
      "cell_type": "markdown",
      "metadata": {
        "id": "view-in-github",
        "colab_type": "text"
      },
      "source": [
        "<a href=\"https://colab.research.google.com/github/rosieb05/RocioBalderas_DTSC3020.020_Fall2025/blob/main/Student_In_Class_Assignment_Ch_7.ipynb\" target=\"_parent\"><img src=\"https://colab.research.google.com/assets/colab-badge.svg\" alt=\"Open In Colab\"/></a>"
      ]
    },
    {
      "cell_type": "markdown",
      "source": [
        "#Write a Python program that simulates a self-checkout system.**\n",
        "Use this price list: prices: apple= 1 ,  bread= 2.5 ,  milk=5 ,  egg= 6\n",
        "\n",
        "Program requirements:\n",
        "\n",
        "The program should repeatedly ask the user to enter an item name or enter \"pay\".\n",
        "\n",
        "\n",
        "• Valid inputs are the names of the **items above ** or the word \"pay\".\n",
        "\n",
        "\n",
        "If the entered item exists in the price list:\n",
        "\n",
        "• Add its price to the running total.\n",
        "\n",
        "\n",
        "• Print the message: \"Added , running total: $\".\n",
        "\n",
        "\n",
        "If the entered item does not exist in the price list:\n",
        "\n",
        "• Print \"Item not found\".\n",
        "\n",
        "If the user types \"pay\":\n",
        "\n",
        "• Stop asking for input.\n",
        "\n",
        "Show the following three values:\n",
        "\n",
        "\n",
        "**Subtotal: the sum of all valid items entered.**\n",
        "\n",
        "**Tax: 8% of the subtotal. (0.08 * total)**\n",
        "\n",
        "**Final total: subtotal + tax.**\n",
        "\n",
        "\n",
        "Run your program with this purchase list. For example, for one person whose purchase is:apple, pizza, bread, pay *italicised text*"
      ],
      "metadata": {
        "id": "t1xs1X02Owtz"
      }
    },
    {
      "cell_type": "code",
      "execution_count": 5,
      "metadata": {
        "id": "nTH6mvq1OqHP",
        "colab": {
          "base_uri": "https://localhost:8080/"
        },
        "outputId": "72c2c34c-3ba9-4a2f-c5e7-0351aa01d3f0"
      },
      "outputs": [
        {
          "output_type": "stream",
          "name": "stdout",
          "text": [
            "Enter an item (apple, bread, milk, egg) or type 'pay' to checkout: milk\n",
            "Added milk, running total: $5.00\n",
            "Enter an item (apple, bread, milk, egg) or type 'pay' to checkout: egg\n",
            "Added egg, running total: $11.00\n",
            "Enter an item (apple, bread, milk, egg) or type 'pay' to checkout: apple\n",
            "Added apple, running total: $12.00\n",
            "Enter an item (apple, bread, milk, egg) or type 'pay' to checkout: apple\n",
            "Added apple, running total: $13.00\n",
            "Enter an item (apple, bread, milk, egg) or type 'pay' to checkout: apple\n",
            "Added apple, running total: $14.00\n",
            "Enter an item (apple, bread, milk, egg) or type 'pay' to checkout: apple\n",
            "Added apple, running total: $15.00\n",
            "Enter an item (apple, bread, milk, egg) or type 'pay' to checkout: pay\n",
            "Subtotal: $15.00\n",
            "Tax: $1.20\n",
            "Total: $16.20\n"
          ]
        }
      ],
      "source": [
        "# write your code here\n",
        "prices = {\n",
        "    \"apple\": 1,\n",
        "    \"bread\": 2.5,\n",
        "    \"milk\": 5,\n",
        "    \"egg\": 6\n",
        "}\n",
        "\n",
        "subtotal = 0.0\n",
        "\n",
        "while True:\n",
        "    item = input(\"Enter an item (apple, bread, milk, egg) or type 'pay' to checkout: \").strip().lower()\n",
        "\n",
        "    if item == \"pay\":\n",
        "        break\n",
        "    elif item in prices:\n",
        "        subtotal += prices[item]\n",
        "        print(f\"Added {item}, running total: ${subtotal:.2f}\")\n",
        "    else:\n",
        "        print(\"Item not found\")\n",
        "\n",
        "#calculate tax and total cost\n",
        "tax = round(subtotal * 0.08, 2) #tax of 8%, rounded 2 decimals\n",
        "total = round(subtotal + tax, 2)\n",
        "\n",
        "print(f\"Subtotal: ${subtotal:.2f}\")\n",
        "print(f\"Tax: ${tax:.2f}\")\n",
        "print(f\"Total: ${total:.2f}\")\n"
      ]
    }
  ]
}